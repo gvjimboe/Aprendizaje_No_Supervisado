{
  "nbformat": 4,
  "nbformat_minor": 0,
  "metadata": {
    "accelerator": "GPU",
    "colab": {
      "name": "Sesion1_AprendizajeNoSupervisado.ipynb",
      "provenance": [],
      "collapsed_sections": [],
      "toc_visible": true
    },
    "kernelspec": {
      "display_name": "Python 3",
      "language": "python",
      "name": "python3"
    },
    "language_info": {
      "codemirror_mode": {
        "name": "ipython",
        "version": 3
      },
      "file_extension": ".py",
      "mimetype": "text/x-python",
      "name": "python",
      "nbconvert_exporter": "python",
      "pygments_lexer": "ipython3",
      "version": "3.7.1"
    }
  },
  "cells": [
    {
      "cell_type": "markdown",
      "metadata": {
        "id": "RlqcVPrvPV2q",
        "colab_type": "text"
      },
      "source": [
        "## Bienvenidos a al ambiente de ejecución de código Colab!!!"
      ]
    },
    {
      "cell_type": "markdown",
      "metadata": {
        "colab_type": "text",
        "id": "ULYFoFS4zu-S"
      },
      "source": [
        "# Presentación del Dataset Iris"
      ]
    },
    {
      "cell_type": "markdown",
      "metadata": {
        "colab_type": "text",
        "id": "LmIh93thx69V"
      },
      "source": [
        "En el presente ejemplo comenzaremos con un dataset **público** utilizado para la formación de **Machine Learning** denominado Iris dataset que se basa en describir las longitudes del sépalo y pétalo de tres tipos de flores: Setosa, virginica y versicolor. Este dataset es uno de los más básicos y usados para introducirnos en el mundo de la ciencia de datos."
      ]
    },
    {
      "cell_type": "markdown",
      "metadata": {
        "id": "wTigmeodVxKw",
        "colab_type": "text"
      },
      "source": [
        "Podemos ver una breve historia de este dataset [acá](https://es.wikipedia.org/wiki/Conjunto_de_datos_flor_iris)"
      ]
    },
    {
      "cell_type": "code",
      "metadata": {
        "colab_type": "code",
        "id": "6VkelaG7xqbY",
        "colab": {}
      },
      "source": [
        "#Importamos librerías útiles\n",
        "import pandas as pd #Es una librería para manipulación de datos\n",
        "import seaborn as sns  #Es una librería para poder hacer nuestros gráficos rápidos y atractivos"
      ],
      "execution_count": 0,
      "outputs": []
    },
    {
      "cell_type": "code",
      "metadata": {
        "colab_type": "code",
        "id": "GnbvxtyiCnAh",
        "colab": {}
      },
      "source": [
        "#Asignamos la variable iris \n",
        "iris = pd.read_csv('https://raw.githubusercontent.com/javalillo13689/hackspace/master/iris.csv')"
      ],
      "execution_count": 0,
      "outputs": []
    },
    {
      "cell_type": "code",
      "metadata": {
        "colab_type": "code",
        "id": "CA2hL-oQCnL-",
        "colab": {}
      },
      "source": [
        "#Mostramos los primeros cinco (5) registros del dataset iris con la instrucción head. Este número se muestra por defecto\n",
        "iris.head() "
      ],
      "execution_count": 0,
      "outputs": []
    },
    {
      "cell_type": "markdown",
      "metadata": {
        "colab_type": "text",
        "id": "pU0jAqkeDpWB"
      },
      "source": [
        "Como resultado hemos obtenido 5 filas con las observaciones de las características de los pétalos y el sépalo.\n",
        "    Hay una columna a la izquierda (**en negrita**) que hace referencia a la posición de cada fila. A esto se le llama index (índice) y nos servirá para ubicar más rápidos nuestros datos. \n",
        "Hay una columna a la derecha denominada *species* que asigna el tipo de flor de cada observación. Esta columna es importante porque será la **variable objetivo** que vamos a predecir o tratar de acercarnos usando el algoritmo de aprendizaje supervisado: KNN (que nos formará clusters)"
      ]
    },
    {
      "cell_type": "code",
      "metadata": {
        "id": "UOnsPcwEPV3E",
        "colab_type": "code",
        "colab": {}
      },
      "source": [
        "iris.describe()"
      ],
      "execution_count": 0,
      "outputs": []
    },
    {
      "cell_type": "code",
      "metadata": {
        "id": "jGl2dcgFPV3H",
        "colab_type": "code",
        "colab": {}
      },
      "source": [
        "iris.info()\n",
        "#float, object, integer, hay más..."
      ],
      "execution_count": 0,
      "outputs": []
    },
    {
      "cell_type": "markdown",
      "metadata": {
        "id": "sJZ8urIc8X8e",
        "colab_type": "text"
      },
      "source": [
        "#Gráficando en Python"
      ]
    },
    {
      "cell_type": "markdown",
      "metadata": {
        "id": "2fCiNCQY8ilQ",
        "colab_type": "text"
      },
      "source": [
        "La primera gráfica que realizaremos hoy en clase será la **gráfica de dispersión** que requiere declarar antes **dos variables: x, y**\n",
        "\n",
        "Para ello define dos columnas del dataset iris para graficar"
      ]
    },
    {
      "cell_type": "code",
      "metadata": {
        "id": "R-pX6evBPV3L",
        "colab_type": "code",
        "colab": {}
      },
      "source": [
        "x =iris['ancho_petalo']\n",
        "y= iris['largo_petalo']\n",
        "sns.scatterplot(x, y,data=iris)"
      ],
      "execution_count": 0,
      "outputs": []
    },
    {
      "cell_type": "markdown",
      "metadata": {
        "colab_type": "text",
        "id": "iGfLwrP39bXj"
      },
      "source": [
        "La segunda gráfica que realizaremos hoy en clase será la **gráfica de distribución** que requiere declarar antes **solo una variable**\n",
        "\n",
        "Para ello escoge una columna del dataset iris para graficar"
      ]
    },
    {
      "cell_type": "code",
      "metadata": {
        "id": "3siCBk-DPV3N",
        "colab_type": "code",
        "colab": {}
      },
      "source": [
        "#El parámetro bins te permite variar el número de intervalos en la gráfica\n",
        "sns.distplot(iris[\"largo_sepalo\"],bins=10)"
      ],
      "execution_count": 0,
      "outputs": []
    },
    {
      "cell_type": "markdown",
      "metadata": {
        "colab_type": "text",
        "id": "qpdBMuoEATU0"
      },
      "source": [
        "La tercera gráfica que realizaremos hoy en clase será **pairplot** qu no requiere **declarar ninguna variable**.\n",
        "Además puedes dibujar todas las relaciones entre todas las variables"
      ]
    },
    {
      "cell_type": "code",
      "metadata": {
        "colab_type": "code",
        "id": "0RFgyy0wK93Z",
        "colab": {}
      },
      "source": [
        "#El parámetro hue le da nombre a la leyenda del gráfico y el size permite limitar el tamaño del gráfico (mientras más pequeño es más facil ver)\n",
        "sns.pairplot(iris,hue='tipo_flor', size=2.0)"
      ],
      "execution_count": 0,
      "outputs": []
    },
    {
      "cell_type": "markdown",
      "metadata": {
        "colab_type": "text",
        "id": "0l544dAdz7Zi"
      },
      "source": [
        "# Tratamiento de la Data"
      ]
    },
    {
      "cell_type": "markdown",
      "metadata": {
        "colab_type": "text",
        "id": "POiGyV5d0S61"
      },
      "source": [
        "Identificamos como **variable objetivo** (target) como 'species'. Las demás variables serán las **predictoras** (features) para el modelo. También podemos obtener estadísticos básicos de estas variables."
      ]
    },
    {
      "cell_type": "code",
      "metadata": {
        "colab_type": "code",
        "id": "k8XRz2q3bkpo",
        "colab": {}
      },
      "source": [
        "#Creamos una variable y_iris para guardar la columna species del dataset iris\n",
        "y_iris = iris['tipo_flor']"
      ],
      "execution_count": 0,
      "outputs": []
    },
    {
      "cell_type": "code",
      "metadata": {
        "colab_type": "code",
        "id": "OojkhBcw0DgC",
        "colab": {}
      },
      "source": [
        "#Creamos una variable X_iris para guardar el resultado de eliminar la columna species del dataset iris\n",
        "X_iris = iris.drop('tipo_flor', axis=1) \n",
        "#axis = 1 es para las columnas, axis = 0 es para las filas."
      ],
      "execution_count": 0,
      "outputs": []
    },
    {
      "cell_type": "code",
      "metadata": {
        "colab_type": "code",
        "id": "9JkThrAT0Pwi",
        "colab": {}
      },
      "source": [
        "#Para visualizar el tamaño del dataset utilizamos el método shape, como resultado obtenemos el números de filas y columnas (en este orden)\n",
        "X_iris.shape"
      ],
      "execution_count": 0,
      "outputs": []
    },
    {
      "cell_type": "markdown",
      "metadata": {
        "colab_type": "text",
        "id": "_BUDr5Ek0LA0"
      },
      "source": [
        "Estos descriptivos verifican que las cuatro variables almacenan **150 observaciones**, todas ellas con datos numéricos. Para este ejemplo no contamos con datos *categóricos* (no numéricos) y tampoco aparecen vacíos o errores. Sobre el tratamiento de este tipo de datos profundizaremos en las siguientes sesiones de clase"
      ]
    },
    {
      "cell_type": "markdown",
      "metadata": {
        "id": "Y8nS8JjwPV3t",
        "colab_type": "text"
      },
      "source": [
        "## Haremos PCA para poder ver que una clusterización te agrupa de manera intuitiva los targets.\n"
      ]
    },
    {
      "cell_type": "markdown",
      "metadata": {
        "colab_type": "text",
        "id": "T8kynYVM5npv"
      },
      "source": [
        "Para aplicar el modelo de *clustering* vamos a realizar una **reducción de dimensionalidad** donde las variables predictoras se reducen a solo dos (2) PCA -que son las iniciales de *Principal Component Analysis*- de esta manera vamos a visualizar el dataset iris en función de solo dos *nuevas variables predictoras* denominadas PCA1 y PCA2"
      ]
    },
    {
      "cell_type": "code",
      "metadata": {
        "colab_type": "code",
        "id": "JA7LzYPC5KyD",
        "colab": {}
      },
      "source": [
        "#Importamos la librería PCA\n",
        "from sklearn.decomposition import PCA\n",
        "\n",
        "#Creamos  una variable feature_pca para asignar PCA, definimos el valor de n_components para limitar a dos las variables finales\n",
        "features_pca = PCA(n_components=2)"
      ],
      "execution_count": 0,
      "outputs": []
    },
    {
      "cell_type": "code",
      "metadata": {
        "colab_type": "code",
        "id": "b_LAI87nHAge",
        "colab": {}
      },
      "source": [
        "#Adaptamos la variable creada feature_pca con la data guardada en X_iris\n",
        "features_pca.fit(X_iris)\n",
        "\n",
        "#Creamos una variable X_2D para guardar este último cambio\n",
        "X_2D = features_pca.transform(X_iris)"
      ],
      "execution_count": 0,
      "outputs": []
    },
    {
      "cell_type": "code",
      "metadata": {
        "id": "5IJHHr0ePV35",
        "colab_type": "code",
        "colab": {}
      },
      "source": [
        "print(X_2D)"
      ],
      "execution_count": 0,
      "outputs": []
    },
    {
      "cell_type": "markdown",
      "metadata": {
        "colab_type": "text",
        "id": "M0Mj75DOCK3R"
      },
      "source": [
        "Añadimos al dataset iris las dos dimensiones ya obtenidas: PCA 1 y PCA 2"
      ]
    },
    {
      "cell_type": "code",
      "metadata": {
        "colab_type": "code",
        "id": "PlfmIqB4CBYV",
        "colab": {}
      },
      "source": [
        "#Añadimmos una columna denominada PCA1 al dataset iris usando la columna 0 de la variable X_2D, es decir la primera columna contando de izquierda a derecha\n",
        "iris['PCA1'] = X_2D[:, 0]\n",
        "\n",
        "#Añadimmos una columna denominada PCA2 al dataset iris usando la columna 1 de la variable X_2D, es decir la segunda columna contando de izquierda a derecha\n",
        "iris['PCA2'] = X_2D[:, 1]"
      ],
      "execution_count": 0,
      "outputs": []
    },
    {
      "cell_type": "code",
      "metadata": {
        "colab_type": "code",
        "id": "XqE8cak9HIJi",
        "colab": {}
      },
      "source": [
        "x =iris['PCA1']\n",
        "y= iris['PCA2']\n",
        "sns.scatterplot(x, y,hue='tipo_flor',data=iris)"
      ],
      "execution_count": 0,
      "outputs": []
    },
    {
      "cell_type": "markdown",
      "metadata": {
        "colab_type": "text",
        "id": "2FS9Kn24zp8w"
      },
      "source": [
        "# Selección y preparación del modelo"
      ]
    },
    {
      "cell_type": "markdown",
      "metadata": {
        "colab_type": "text",
        "id": "eonVeo5O0BiQ"
      },
      "source": [
        "Ahora vamos a seleccionar un **modelo de clustering o agrupamiento** denominado *Kmeans*. Este modelo lo vamos a adaptar con las nuevas dos dimensiones que obtuvimos a partir de X_iris (PCA1, PCA2). Ambas variables están guardadas en X_2D"
      ]
    },
    {
      "cell_type": "code",
      "metadata": {
        "colab_type": "code",
        "id": "tpNu_u9lJSRc",
        "colab": {}
      },
      "source": [
        "#Importamos la librería KMeans\n",
        "from sklearn.cluster import KMeans\n",
        "\n",
        "#Creamos una variable kmeans para guardar el modelo Kmeans\n",
        "#Definimos los parámetros n_clusters para limitar solo tres agrupamientos, también podemos definir el máximo de iteraciones con max_iter\n",
        "kmeans = KMeans(n_clusters=3, max_iter=600)"
      ],
      "execution_count": 0,
      "outputs": []
    },
    {
      "cell_type": "code",
      "metadata": {
        "colab_type": "code",
        "id": "ZjdyAlZnKpTB",
        "colab": {}
      },
      "source": [
        "#Perfilamos el modelo kmeans con los datos guardados en X_2D\n",
        "kmeans = kmeans.fit(X_iris)"
      ],
      "execution_count": 0,
      "outputs": []
    },
    {
      "cell_type": "code",
      "metadata": {
        "colab_type": "code",
        "id": "F3cjoBo-Kpgw",
        "colab": {}
      },
      "source": [
        "#Creamos una variable predicciones para obtener las predicciones usando el modelo kmeans a partir de los datos guardados en X_2D\n",
        "predicciones = kmeans.predict(X_iris)"
      ],
      "execution_count": 0,
      "outputs": []
    },
    {
      "cell_type": "code",
      "metadata": {
        "id": "CSzFkytOPV4c",
        "colab_type": "code",
        "colab": {}
      },
      "source": [
        "predicciones"
      ],
      "execution_count": 0,
      "outputs": []
    },
    {
      "cell_type": "code",
      "metadata": {
        "id": "o0Gk_iVxC8kj",
        "colab_type": "code",
        "colab": {}
      },
      "source": [
        "iris['predicciones'] = predicciones\n",
        "sns.scatterplot(x = 'PCA1', y = 'PCA2', hue = 'predicciones',data = iris)"
      ],
      "execution_count": 0,
      "outputs": []
    },
    {
      "cell_type": "markdown",
      "metadata": {
        "colab_type": "text",
        "id": "3rDBbAFiOfWG"
      },
      "source": [
        "# KModes"
      ]
    },
    {
      "cell_type": "code",
      "metadata": {
        "id": "HZw_p5CYOmnb",
        "colab_type": "code",
        "colab": {}
      },
      "source": [
        "pip install kmodes "
      ],
      "execution_count": 0,
      "outputs": []
    },
    {
      "cell_type": "code",
      "metadata": {
        "id": "XPvL-8ExOpS7",
        "colab_type": "code",
        "colab": {}
      },
      "source": [
        "import numpy as np\n",
        "from kmodes.kmodes import KModes"
      ],
      "execution_count": 0,
      "outputs": []
    },
    {
      "cell_type": "code",
      "metadata": {
        "id": "yVRizKBOOrS9",
        "colab_type": "code",
        "colab": {}
      },
      "source": [
        "km=KModes(n_clusters=3,init='Huang',n_init=5,verbose=1)"
      ],
      "execution_count": 0,
      "outputs": []
    },
    {
      "cell_type": "code",
      "metadata": {
        "id": "SN6wigtKOtaO",
        "colab_type": "code",
        "colab": {}
      },
      "source": [
        "import pandas as pd"
      ],
      "execution_count": 0,
      "outputs": []
    },
    {
      "cell_type": "code",
      "metadata": {
        "id": "sS9ZIAmuO3d2",
        "colab_type": "code",
        "colab": {}
      },
      "source": [
        "X_test=pd.read_csv('people.csv')"
      ],
      "execution_count": 0,
      "outputs": []
    },
    {
      "cell_type": "code",
      "metadata": {
        "id": "-BwysSH-PGSe",
        "colab_type": "code",
        "colab": {}
      },
      "source": [
        "X_test.dropna(inplace=True)\n",
        "X_test.reset_index(drop=True,inplace=True)"
      ],
      "execution_count": 0,
      "outputs": []
    },
    {
      "cell_type": "code",
      "metadata": {
        "id": "cnigGcEcPNjg",
        "colab_type": "code",
        "colab": {}
      },
      "source": [
        "data_kmodes=X_test\n",
        "clusters=km.fit_predict(data_kmodes)"
      ],
      "execution_count": 0,
      "outputs": []
    },
    {
      "cell_type": "code",
      "metadata": {
        "id": "_eq_2fbyPUKq",
        "colab_type": "code",
        "colab": {}
      },
      "source": [
        "X_test['cluster']=clusters"
      ],
      "execution_count": 0,
      "outputs": []
    },
    {
      "cell_type": "code",
      "metadata": {
        "id": "djpaVki9PVek",
        "colab_type": "code",
        "colab": {}
      },
      "source": [
        "X_test"
      ],
      "execution_count": 0,
      "outputs": []
    }
  ]
}