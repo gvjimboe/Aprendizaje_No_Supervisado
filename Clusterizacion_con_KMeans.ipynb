{
 "cells": [
  {
   "cell_type": "markdown",
   "metadata": {
    "colab_type": "text",
    "id": "wWyTYshTiaPG"
   },
   "source": [
    "# Clusterización de personas"
   ]
  },
  {
   "cell_type": "markdown",
   "metadata": {
    "colab_type": "text",
    "id": "ApIpHsYBiaPJ"
   },
   "source": [
    "## Presentación del caso"
   ]
  },
  {
   "cell_type": "markdown",
   "metadata": {
    "colab_type": "text",
    "id": "PGTg8IfHiaPL"
   },
   "source": [
    "Este ejercicio nos permite ejecutar un código para agrupar personas según las características de cada una. Para el presente ejemplo se ha considerado **100 personajes famosos a nivel mundial relacionados al cine, música, arte y deporte**.\n",
    "\n",
    "![Image of Yaktocat](https://www.lifeder.com/wp-content/uploads/2017/01/dinámicas-de-cohesión.jpg)\n",
    "\n",
    "El dataset se ha obtenido gracias a un **estudio** realizados sobre los razgos de la personalidad basado en los tweets publicados por el famoso. Cada rasgo ha sido **cuantificado en una columna**: Openess, Extraversion y Agreeablenes\n",
    "\n",
    "1.- *Openess*: Honestidad, franqueza, transparencia\n",
    "\n",
    "2.- *Extraversion*: Extraversión, ímpetu, dinamismo, entusiasmo.\n",
    "\n",
    "3.- *Agreeablenes*: Agradable, amable, buen tipo, cordial.\n",
    "\n",
    "El reto será comparar la agrupación obtenida por KMeans y la clasificación por sus trabajos. Tomar nota que el dataset tiene registrada en la columna **categoría** el trabajo:\n",
    "\n",
    "**Categoría 1:** Actores y actrices de Hollywood\n",
    "\n",
    "**Categoría 2:** Cantantes\n",
    "\n",
    "**Categoría 3:** TV Host (presentadores de televisión)\n",
    "\n",
    "**Categoría 4:** Deportistas\n",
    "\n",
    "**Categoría 5:** Políticos\n",
    "\n",
    "**Categoría 6:** Escritores"
   ]
  },
  {
   "cell_type": "markdown",
   "metadata": {
    "colab_type": "text",
    "id": "gs0pv_9eiaPM"
   },
   "source": [
    "## Importación de librerías"
   ]
  },
  {
   "cell_type": "code",
   "execution_count": null,
   "metadata": {
    "colab": {},
    "colab_type": "code",
    "id": "57SEYIBHiaPN"
   },
   "outputs": [],
   "source": [
    "\"\"\" Importamos la librería pandas que nos sirve para manipular datos tabulares (filas y columnas) como archivos csv\n",
    "Además renombramos la librería con el acrónimo pd para llamar la librería de forma más rápida a lo largo del código \"\"\"\n",
    "import pandas as pd"
   ]
  },
  {
   "cell_type": "code",
   "execution_count": null,
   "metadata": {
    "colab": {},
    "colab_type": "code",
    "id": "q8jeBPOHiaPU"
   },
   "outputs": [],
   "source": [
    "\"\"\" Importamos la librería numpy que nos sirve para manipular datos numéricos así como funciones y variables matemáticas\n",
    "Además renombramos la librería con el acrónimo pd para llamar la librería de forma más rápida a lo largo del código \"\"\"\n",
    "import numpy as np"
   ]
  },
  {
   "cell_type": "code",
   "execution_count": null,
   "metadata": {
    "colab": {},
    "colab_type": "code",
    "id": "TQUE_KIFiaPa"
   },
   "outputs": [],
   "source": [
    "\"\"\" Importamos la librería pypplot de matplotlib para poder realizar gráficos básicos\n",
    "Además renombramos la librería con el acrónimo plt para llamar la librería de forma más rápida a lo largo del código \"\"\"\n",
    "import matplotlib.pyplot as plt"
   ]
  },
  {
   "cell_type": "code",
   "execution_count": null,
   "metadata": {
    "colab": {},
    "colab_type": "code",
    "id": "DX3dkpQkiaPd"
   },
   "outputs": [],
   "source": [
    "#Configuramos el estilo ggplot predeterminado de las gráficas\n",
    "plt.style.use('ggplot')"
   ]
  },
  {
   "cell_type": "code",
   "execution_count": null,
   "metadata": {
    "colab": {},
    "colab_type": "code",
    "id": "l6LkBqn-iaPg"
   },
   "outputs": [],
   "source": [
    "\"\"\" Importamos la librería seabron para poder realizar gráficos más elaborados\n",
    "Además renombramos la librería con el acrónimo sb para llamar la librería de forma más rápida a lo largo del código \"\"\"\n",
    "import seaborn as sb"
   ]
  },
  {
   "cell_type": "code",
   "execution_count": null,
   "metadata": {
    "colab": {},
    "colab_type": "code",
    "id": "bj7oWDQmiaPk"
   },
   "outputs": [],
   "source": [
    "#Importamos Axes3D de mplot3d a partir de mpl_toolkits para graficar en formato tridimensional\n",
    "from mpl_toolkits.mplot3d import Axes3D"
   ]
  },
  {
   "cell_type": "code",
   "execution_count": null,
   "metadata": {
    "colab": {},
    "colab_type": "code",
    "id": "MHdX6IOziaPp"
   },
   "outputs": [],
   "source": [
    "#Importamos KMeans de sklearn.cluster para poder ejecutar el modelo de agrupamiento\n",
    "from sklearn.cluster import KMeans"
   ]
  },
  {
   "cell_type": "code",
   "execution_count": null,
   "metadata": {
    "colab": {},
    "colab_type": "code",
    "id": "EIux6v5viaPt"
   },
   "outputs": [],
   "source": [
    "#Importamos pairwise_distances_argmin_min para medir la distancia entre los elementos y su centroide para cada cluster\n",
    "from sklearn.metrics import pairwise_distances_argmin_min"
   ]
  },
  {
   "cell_type": "markdown",
   "metadata": {
    "colab_type": "text",
    "id": "6KPnX7g1iaPx"
   },
   "source": [
    "## Lectura de los datos"
   ]
  },
  {
   "cell_type": "code",
   "execution_count": null,
   "metadata": {
    "colab": {},
    "colab_type": "code",
    "id": "uCUg48QCiaPz"
   },
   "outputs": [],
   "source": [
    "\"\"\" Para leer los datos utilizamos el método read_csv de la librería pandas\n",
    "Además hemos guardado los datos en una nueva variable denominada data\"\"\"\n",
    "data = pd.read_csv(\"https://raw.githubusercontent.com/javalpe/datasets/master/clustering_stars.csv\")"
   ]
  },
  {
   "cell_type": "code",
   "execution_count": null,
   "metadata": {
    "colab": {
     "base_uri": "https://localhost:8080/",
     "height": 195
    },
    "colab_type": "code",
    "id": "GvJ6IqJ6iaP5",
    "outputId": "1b619134-a0c8-491c-f352-0314c1bbd33b",
    "scrolled": true
   },
   "outputs": [],
   "source": [
    "\"\"\" Para verificar que hemos leído correctamente los datos ejecutamos el método head\n",
    "Por defecto el método head arroja los primeros cinco (5) elementos, pero puedes variar el número\n",
    "Otras variaciones son (-1)=todos los elementos o tail() que muestra los últimos cinco elementos\"\"\"\n",
    "data.head()"
   ]
  },
  {
   "cell_type": "markdown",
   "metadata": {
    "colab_type": "text",
    "id": "3RLUQluOiaP9"
   },
   "source": [
    "## Preprocesamiento de los datos I"
   ]
  },
  {
   "cell_type": "markdown",
   "metadata": {
    "colab_type": "text",
    "id": "0AoxkaioiaP-"
   },
   "source": [
    "Esta parte del proceso es muy importante porque se debe preparar los datos para ejecutar adecuadamente el modelo de machine learning. Para ello nos aseguramos de realizar los siguientes pasos previos a la aplicación del modelo:\n",
    "\n",
    "1.- Reemplazar y/o eliminar los vacíos y nulos\n",
    "\n",
    "2.- Reemplazar y/o eliminar los outliers\n",
    "\n",
    "3.- Transformar el tipo de dato de categórico a numérico de ser necesario\n",
    "\n",
    "4.- Normalizar los datos para evitar sesgo por escala"
   ]
  },
  {
   "cell_type": "code",
   "execution_count": null,
   "metadata": {
    "colab": {
     "base_uri": "https://localhost:8080/",
     "height": 284
    },
    "colab_type": "code",
    "id": "PcukMeZZiaP_",
    "outputId": "7b6ee034-1131-48ad-9a94-e4ca9fbd9655",
    "scrolled": false
   },
   "outputs": [],
   "source": [
    "\"\"\"\" Para obtener una vista rápida de las principales características estadísticas sobre las variables cuantitativas de la data \n",
    "utilizamos el método describe: conteo, promedio(mean), desviación estandar(std), minimo(min), percentiles (25,50,75), maximo\"\"\"\n",
    "data.describe()"
   ]
  },
  {
   "cell_type": "markdown",
   "metadata": {
    "colab_type": "text",
    "id": "1ooK-nNjiaQC"
   },
   "source": [
    "Como conclusión podemos comprobar que **no existen nulos ni vacíos en ninguna columna** porque de otro modo la variable *count* de la primera fila no resultaría 100 en todas las columnas."
   ]
  },
  {
   "cell_type": "markdown",
   "metadata": {
    "colab_type": "text",
    "id": "5Az04AuYiaQF"
   },
   "source": [
    "También podemos obtener el **número de personas que actualmente se encuentran en cada grupo** Para ello utilizamos dos métodos:\n",
    "\n",
    "1.- groupby: que agrega o agrupa los datos en base a una característica (columna)\n",
    "\n",
    "2.- size: calcular el número de registros"
   ]
  },
  {
   "cell_type": "code",
   "execution_count": null,
   "metadata": {
    "colab": {
     "base_uri": "https://localhost:8080/",
     "height": 202
    },
    "colab_type": "code",
    "id": "JZ0igyHGiaQG",
    "outputId": "448513d6-323f-411d-c1a2-4d1f9c3f426c",
    "scrolled": true
   },
   "outputs": [],
   "source": [
    "#Utilizamos print para mostrar el resultado y el método size fuera de groupby para contar los elementos de cada grupo\n",
    "print(data.groupby('categoria').size())"
   ]
  },
  {
   "cell_type": "markdown",
   "metadata": {
    "colab_type": "text",
    "id": "Nag2SsZkiaQP"
   },
   "source": [
    "Como resultado podemos visualizar que cada categoría tiene la misma cantidad de personas (excepto la categoría 6, pero es muy similar al resto). Esto es importante porque nos permite prevenir un **sesgo** del modelo ante data **desbalanceada**."
   ]
  },
  {
   "cell_type": "markdown",
   "metadata": {
    "colab_type": "text",
    "id": "aMJLqTZYiaQQ"
   },
   "source": [
    "## Preprocesamiento de los datos II"
   ]
  },
  {
   "cell_type": "markdown",
   "metadata": {
    "colab_type": "text",
    "id": "s_1lAuxPiaQS"
   },
   "source": [
    "Una opción rápida para verificar las distribuciones de los datos es graficándolos. Para ello Python cuenta con varias gráficas o también puedes hacer uso de las librerías **pyplot o seaborn**"
   ]
  },
  {
   "cell_type": "markdown",
   "metadata": {
    "colab_type": "text",
    "id": "ObkJuzJoiaQX"
   },
   "source": [
    "*Histograma:* Permite graficar las distribuciones de cada variable a través de un conteo en intervalos. Para ello utilizamos el método **hist()**"
   ]
  },
  {
   "cell_type": "code",
   "execution_count": null,
   "metadata": {
    "colab": {
     "base_uri": "https://localhost:8080/",
     "height": 366
    },
    "colab_type": "code",
    "id": "LIEk0SX4iaQX",
    "outputId": "5d7aa858-f245-4fc9-8d01-61b4f1ce9a24"
   },
   "outputs": [],
   "source": [
    "#Primero elinamos temporalmente categoría y luego aplicamos el histograma sobre las variables cuantitativas dependientes\n",
    "data.drop(['categoria'],1).hist()"
   ]
  },
  {
   "cell_type": "markdown",
   "metadata": {
    "colab_type": "text",
    "id": "Oiiv1zK9iaQd"
   },
   "source": [
    "*Diagrama de dispersión:* Permite graficar las distribuciones de cada variable a través de un diagrama de puntos sobre un plano cartesiano. Además realiza las gráficas combinando todas las variables de 2 en 2. Para ello utilizamos el método **pairplot** de la librería **seaborn**"
   ]
  },
  {
   "cell_type": "code",
   "execution_count": null,
   "metadata": {
    "colab": {
     "base_uri": "https://localhost:8080/",
     "height": 567
    },
    "colab_type": "code",
    "id": "JkUYduO5iaQe",
    "outputId": "b8431e63-c6c7-45c2-8beb-312da66fefdb"
   },
   "outputs": [],
   "source": [
    "\"\"\" El método pairplot dibuja todas las gráficas entre variables comparándolas en pares.\n",
    "Además cuenta con un parámetro hue para añadir un filtro y el parámetro kind define el tipo de gráfica\"\"\"\n",
    "sb.pairplot(data, hue='categoria',vars=[\"op\",\"ex\",\"ag\"],kind='scatter');\n",
    "plt.show()"
   ]
  },
  {
   "cell_type": "markdown",
   "metadata": {
    "colab_type": "text",
    "id": "KFT_KPooiaQh"
   },
   "source": [
    "*Boxplot:* Permite graficar la distribución de una variable para identificar **outliers**. De forma ideal se deben eliminar o reemplazar todos los outliers para representar el comportamiento real de los datos **sin valores atípicos**. Sin embargo, para no perder información se puede admitir un porcentaje mínimo de outliers: **5% -10%**"
   ]
  },
  {
   "cell_type": "code",
   "execution_count": null,
   "metadata": {
    "colab": {
     "base_uri": "https://localhost:8080/",
     "height": 282
    },
    "colab_type": "code",
    "id": "GlW7bkZaiaQi",
    "outputId": "802f826f-7b7b-44a0-99dd-2bb8d16a59d0"
   },
   "outputs": [],
   "source": [
    "\"\"\" Dibujamos el boxplot de la variable openess a través del método boxplot de la librería seaborn (sb) \n",
    "El eje X es la variable categoría y la variable Y es la variable openess. El parámetro width es el ancho de la caja\"\"\"\n",
    "sb.boxplot( x=data[\"categoria\"], y=data[\"op\"], width=0.8);\n",
    "plt.show()"
   ]
  },
  {
   "cell_type": "code",
   "execution_count": null,
   "metadata": {
    "colab": {
     "base_uri": "https://localhost:8080/",
     "height": 282
    },
    "colab_type": "code",
    "id": "cXBMIFBkiaQk",
    "outputId": "57f68597-4471-467e-89af-1303f5f4d509"
   },
   "outputs": [],
   "source": [
    "\"\"\" Dibujamos el boxplot de la variable extraversion a través del método boxplot de la librería seaborn (sb) \n",
    "El eje X es la variable categoría y la variable Y es la variable extraversion. El parámetro width es el ancho de la caja\"\"\"\n",
    "sb.boxplot( x=data[\"categoria\"], y=data[\"ex\"], width=0.8);\n",
    "plt.show()"
   ]
  },
  {
   "cell_type": "code",
   "execution_count": null,
   "metadata": {
    "colab": {
     "base_uri": "https://localhost:8080/",
     "height": 282
    },
    "colab_type": "code",
    "id": "zaO6iuJYiaQs",
    "outputId": "180228d0-e22e-481c-ad15-9451040f2ac0"
   },
   "outputs": [],
   "source": [
    "\"\"\" Dibujamos el boxplot de la variable Agreeablenes a través del método boxplot de la librería seaborn (sb) \n",
    "El eje X es la variable categoría y la variable Y es la variable Agreeablenes. El parámetro width es el ancho de la caja\"\"\"\n",
    "sb.boxplot( x=data[\"categoria\"], y=data[\"ag\"], width=0.8);\n",
    "plt.show()"
   ]
  },
  {
   "cell_type": "markdown",
   "metadata": {
    "colab_type": "text",
    "id": "gHfJmaOEiaQv"
   },
   "source": [
    "*Gráficos en 3 dimensiones:* Es un gráfico muy útil si queremos comparar **tres variables en un solo gráfico** Pero previamente debes transformar cada variable en un arreglo. Para ello utilizamos el método **array** de la librería **numpy (np)**"
   ]
  },
  {
   "cell_type": "code",
   "execution_count": null,
   "metadata": {
    "colab": {},
    "colab_type": "code",
    "id": "rqU3KS1ziaQw"
   },
   "outputs": [],
   "source": [
    "#Con ayuda del numpy convertimos en arreglos de números a las variables dependientes como X y la variable categoría como Y\n",
    "X = np.array(data[[\"op\",\"ex\",\"ag\"]])\n",
    "y = np.array(data['categoria'])"
   ]
  },
  {
   "cell_type": "code",
   "execution_count": null,
   "metadata": {
    "colab": {
     "base_uri": "https://localhost:8080/",
     "height": 336
    },
    "colab_type": "code",
    "id": "5V8K0OxliaQz",
    "outputId": "78bb224b-42b3-443f-ba0d-622458bd8e29"
   },
   "outputs": [],
   "source": [
    "\"\"\" Dibujamos en tres dimensiones con ayuda de la función Axes3D\n",
    "Cada punto será coloreado según su categoría, el gráfico final tiene 3 ejes: cada eje es una variable independiente\n",
    "El parámetro c hace referencia a color y se llenará con los colores asignados por categoría\"\"\"\n",
    "fig = plt.figure()\n",
    "ax = Axes3D(fig)\n",
    "colores=['blue','red','green','blue','cyan','yellow','orange','black','pink','brown','purple']\n",
    "asignar=[]\n",
    "for row in y:\n",
    "    asignar.append(colores[row])\n",
    "ax.scatter(X[:, 0], X[:, 1], X[:, 2], c=asignar)"
   ]
  },
  {
   "cell_type": "markdown",
   "metadata": {
    "colab_type": "text",
    "id": "rqc0cgOCiaQ2"
   },
   "source": [
    "A modo de conclusión del Preprocesamiento no se ha encontrado valores vacíos o nulos. Además se ha admitido un porcentaje mínimo de outliers en los datos. Por otro lado las escalas en que se encuentran las variables son similares por lo tanto no es necesario una normalización de los datos."
   ]
  },
  {
   "cell_type": "markdown",
   "metadata": {
    "colab_type": "text",
    "id": "3O2ENHbTiaQ2"
   },
   "source": [
    "## Modelamiento"
   ]
  },
  {
   "cell_type": "markdown",
   "metadata": {
    "colab_type": "text",
    "id": "1co9nNpgiaQ3"
   },
   "source": [
    "Ahora que ya contamos con los datos limpios y listos para ser procesados por nuestro modelo, procedemos a ejecutar el algoritmo de KMeans para agrupar a las 140 personas."
   ]
  },
  {
   "cell_type": "markdown",
   "metadata": {
    "colab_type": "text",
    "id": "8udwupXCiaQ4"
   },
   "source": [
    "El primer paso será definir el **número óptimo de cluster** y para ello utilizamos el método **score** que nos permite comparar cuaánto mejora la precisión del modelo a medida que aumenta el número de cluster."
   ]
  },
  {
   "cell_type": "code",
   "execution_count": null,
   "metadata": {
    "colab": {},
    "colab_type": "code",
    "id": "XOkOPOBZiaQ8"
   },
   "outputs": [],
   "source": [
    "#Cremos una lista con números del 1 al 10 para simular el número de cluster\n",
    "numeros_cluster = range(1, 10)"
   ]
  },
  {
   "cell_type": "code",
   "execution_count": null,
   "metadata": {
    "colab": {},
    "colab_type": "code",
    "id": "qAtsKfK5iaQ_"
   },
   "outputs": [],
   "source": [
    "#Creamos una variable kmeans que guarde el modelo KMeans con un número de cluster distinto por cada valor de la lista\n",
    "kmeans = [KMeans(n_clusters=i) for i in numeros_cluster]"
   ]
  },
  {
   "cell_type": "code",
   "execution_count": null,
   "metadata": {
    "colab": {},
    "colab_type": "code",
    "id": "HK2cJVBqiaRC"
   },
   "outputs": [],
   "source": [
    "#Calculamos el score obtenido al entrenar los datos almacenados en X (arreglo de variables independientes) por cada kmeans\n",
    "score = [kmeans[i].fit(X).score(X) for i in range(len(kmeans))]"
   ]
  },
  {
   "cell_type": "code",
   "execution_count": null,
   "metadata": {
    "colab": {
     "base_uri": "https://localhost:8080/",
     "height": 282
    },
    "colab_type": "code",
    "id": "NSwAB-JKiaRF",
    "outputId": "dd09ed27-c8d0-4f91-b31a-b1293e87a137"
   },
   "outputs": [],
   "source": [
    "#Finalmente graficamos el número de cluster versus el score obtenido\n",
    "plt.plot(numeros_cluster,score) #El eje X es el número de clusters y el eje Y es el score del KMeans con ese número de clusters\n",
    "plt.xlabel('Número de cluster') #Titulamos el eje X\n",
    "plt.ylabel('Puntaje acumulado') #Titulamos el eje Y\n",
    "plt.show()"
   ]
  },
  {
   "cell_type": "markdown",
   "metadata": {
    "colab_type": "text",
    "id": "dW-Ni-TJiaRI"
   },
   "source": [
    "Se evidencia que con solos **2 clusters** aumentamos el puntaje de -16,000 hasta -8,000 (50% mejor). Luego con **3 clusters** aumentamos el puntaje de -8,000 hasta -6,000 (25% mejor). Por ello solo nos quedaremos con 3 clusters, ya que a partir de 4 cluster la mejora será mínima."
   ]
  },
  {
   "cell_type": "code",
   "execution_count": null,
   "metadata": {
    "colab": {
     "base_uri": "https://localhost:8080/",
     "height": 67
    },
    "colab_type": "code",
    "id": "Ky5Jj4_uiaRJ",
    "outputId": "d903f0cf-db96-4dd4-b831-833de643da21"
   },
   "outputs": [],
   "source": [
    "\"\"\" Actualizamos la variable kmeans para definir el modelo KMeans con tres clusters fijos y entrenados con los datos de X \n",
    "Además almacenamos los tres núcleos de cada cluster en una variable centroides con el método cluster_centers_\"\"\"\n",
    "kmeans = KMeans(n_clusters=3).fit(X)\n",
    "centroides = kmeans.cluster_centers_\n",
    "print(centroides)"
   ]
  },
  {
   "cell_type": "markdown",
   "metadata": {
    "colab_type": "text",
    "id": "xaUd66zHiaRO"
   },
   "source": [
    "Una vez hemos obtenido el modelo KMeans con el **número de clúster óptimos** procedemos a generar las **predicciones** ubicando a las personas según su cluster asignado"
   ]
  },
  {
   "cell_type": "code",
   "execution_count": null,
   "metadata": {
    "colab": {},
    "colab_type": "code",
    "id": "vASCDpG5iaRP"
   },
   "outputs": [],
   "source": [
    "# Almacenamos las 140 predicciones en una variable target que indica a cuál de los 3 cluster pertenece cada persona\n",
    "target = kmeans.predict(X)"
   ]
  },
  {
   "cell_type": "code",
   "execution_count": null,
   "metadata": {
    "colab": {},
    "colab_type": "code",
    "id": "nC6JaOYIiaRS"
   },
   "outputs": [],
   "source": [
    "#Añadimos una columna adicional en nuestra data para mostrar el cluster correspondiente de la variable target\n",
    "data['cluster']=target"
   ]
  },
  {
   "cell_type": "code",
   "execution_count": null,
   "metadata": {
    "colab": {
     "base_uri": "https://localhost:8080/",
     "height": 319
    },
    "colab_type": "code",
    "id": "pfqt60TZiaRV",
    "outputId": "5e848abc-04ac-48df-9347-203908dab308",
    "scrolled": true
   },
   "outputs": [],
   "source": [
    "#Dibujamos los cluster con sus nucleos como estrellas con la variable marker\n",
    "colores=['green','blue','red']\n",
    "asignar=[]\n",
    "for row in target:\n",
    "    asignar.append(colores[row])\n",
    " \n",
    "fig = plt.figure()\n",
    "ax = Axes3D(fig)\n",
    "ax.scatter(X[:, 0], X[:, 1], X[:, 2], c=asignar)\n",
    "ax.scatter(centroides[:, 0], centroides[:, 1], centroides[:, 2], marker='*', c=colores, s=500)\n",
    "plt.show()"
   ]
  },
  {
   "cell_type": "markdown",
   "metadata": {
    "colab_type": "text",
    "id": "qfRNR-p4iaRe"
   },
   "source": [
    "Cómo se evidencia hemos formado **tres grupos claramente separados** según las características registradas en los datos: openess, extraversion y agreeablenes. Adicionalmente podemos comparar de dos en dos estas características para ver cómo se comporta cada cluster en cada gráfica:"
   ]
  },
  {
   "cell_type": "code",
   "execution_count": null,
   "metadata": {
    "colab": {
     "base_uri": "https://localhost:8080/",
     "height": 282
    },
    "colab_type": "code",
    "id": "Vd-YIfAgiaRf",
    "outputId": "2d122df2-f86d-4d7b-a653-d07a99bbabc9"
   },
   "outputs": [],
   "source": [
    "#Solo vamos a graficar los valores de las columnas \"op\" (openess) y \"ex\" (extraversion) \n",
    "f1 = data['op'].values\n",
    "f2 = data['ex'].values\n",
    " \n",
    "plt.scatter(f1, f2, c=asignar, s=50)\n",
    "plt.scatter(centroides[:, 0], centroides[:, 1], marker='*', c=colores, s=100)\n",
    "plt.xlabel('honestidad')\n",
    "plt.ylabel('ímpetu')\n",
    "plt.show()"
   ]
  },
  {
   "cell_type": "code",
   "execution_count": null,
   "metadata": {
    "colab": {
     "base_uri": "https://localhost:8080/",
     "height": 282
    },
    "colab_type": "code",
    "id": "g1YCwVYGiaRh",
    "outputId": "84b27f67-594b-4990-84d4-48a9cf4f534b"
   },
   "outputs": [],
   "source": [
    "#Solo vamos a graficar los valores de las columnas \"op\" (openess) y \"ag\" (agreeablenes) \n",
    "f1 = data['op'].values\n",
    "f2 = data['ag'].values\n",
    " \n",
    "plt.scatter(f1, f2, c=asignar, s=50)\n",
    "plt.scatter(centroides[:, 0], centroides[:, 2], marker='*', c=colores, s=100)\n",
    "plt.xlabel('honestidad')\n",
    "plt.ylabel('amabilidad')\n",
    "plt.show()"
   ]
  },
  {
   "cell_type": "code",
   "execution_count": null,
   "metadata": {
    "colab": {
     "base_uri": "https://localhost:8080/",
     "height": 282
    },
    "colab_type": "code",
    "id": "Z9PCGJO8iaRk",
    "outputId": "777a8a3e-1dc4-4855-8ab7-e76c5a0581d1"
   },
   "outputs": [],
   "source": [
    "#Solo vamos a graficar los valores de las columnas \"ex\" (extraversion) y \"ag\" (agreeablenes) \n",
    "f1 = data['ex'].values\n",
    "f2 = data['ag'].values\n",
    " \n",
    "plt.scatter(f1, f2, c=asignar, s=50)\n",
    "plt.xlabel('ímpetu')\n",
    "plt.ylabel('amabilidad')\n",
    "plt.scatter(centroides[:, 1], centroides[:, 2], marker='*', c=colores, s=100)\n",
    "plt.show()"
   ]
  },
  {
   "cell_type": "markdown",
   "metadata": {
    "colab_type": "text",
    "id": "F9XRf9LuiaRz"
   },
   "source": [
    "# Análisis de resultados"
   ]
  },
  {
   "cell_type": "markdown",
   "metadata": {},
   "source": [
    "Para visualizar el valor **promedio** de cada variable podemos mostrar una tabla similar a las tablas dinámicas que ejecutamos en Excel y así comprobar el comportamiento diferente entre cada cluster"
   ]
  },
  {
   "cell_type": "code",
   "execution_count": null,
   "metadata": {},
   "outputs": [],
   "source": [
    "#Para mostrar tablas dinámicas en Python usamos el método pivot_table y el parámetro aggfunc para definir qué mostrar\n",
    "data.pivot_table(['op', 'ex', 'ag'], 'cluster', aggfunc=np.mean)"
   ]
  },
  {
   "cell_type": "code",
   "execution_count": null,
   "metadata": {},
   "outputs": [],
   "source": [
    "data['categoria'].replace({1: \"HollywoodStar\", 2: \"Cantantes\", 3:\"TV Host\", 4:\"Deportistas\", 5:\"Políticos\", 6:\"Escritores\"}, inplace=True)"
   ]
  },
  {
   "cell_type": "code",
   "execution_count": null,
   "metadata": {},
   "outputs": [],
   "source": [
    "data.pivot_table(['op', 'ex', 'ag'], ['cluster','categoria'], aggfunc=np.mean)"
   ]
  },
  {
   "cell_type": "markdown",
   "metadata": {
    "colab_type": "text",
    "id": "jGmrCFIgiaR4"
   },
   "source": [
    "## Elementos representativos de cada cluster"
   ]
  },
  {
   "cell_type": "markdown",
   "metadata": {
    "colab_type": "text",
    "id": "YqfrYKYXiaR4"
   },
   "source": [
    "Para obtener los elementos más representativos de cada cluster vamos a seleccionar aquellos elementos que **están más cerca a los centroides** de cada cluster"
   ]
  },
  {
   "cell_type": "code",
   "execution_count": null,
   "metadata": {
    "colab": {
     "base_uri": "https://localhost:8080/",
     "height": 34
    },
    "colab_type": "code",
    "id": "FQjM54n-iaR5",
    "outputId": "ed5a73c7-bc4d-439f-8e0f-7b53ae9f60b2"
   },
   "outputs": [],
   "source": [
    "\"\"\" Creamos una variable mas_centrados para descubrir los registros que están más cerca a los centroides de cada cluster\n",
    "Para ello utilizamos la función pairwise_distances_argmin_min de la librería sklearn.metrics \"\"\"\n",
    "mas_centrados, _ = pairwise_distances_argmin_min(centroides, X)\n",
    "mas_centrados"
   ]
  },
  {
   "cell_type": "markdown",
   "metadata": {
    "colab_type": "text",
    "id": "bHqWw5zCiaR9"
   },
   "source": [
    "Para descubrir el nombre de los elementos seleccionados utilizamos los números como **índices** de la columna **usuario**"
   ]
  },
  {
   "cell_type": "code",
   "execution_count": null,
   "metadata": {
    "colab": {
     "base_uri": "https://localhost:8080/",
     "height": 67
    },
    "colab_type": "code",
    "id": "BoXrK-eYiaR_",
    "outputId": "5b342dd9-cd30-4463-c6b5-bac4e1c5356b"
   },
   "outputs": [],
   "source": [
    "nombres = data['usuario']\n",
    "for row in mas_centrados:\n",
    "    print(nombres[row])"
   ]
  },
  {
   "cell_type": "code",
   "execution_count": null,
   "metadata": {
    "colab": {
     "base_uri": "https://localhost:8080/",
     "height": 34
    },
    "colab_type": "code",
    "id": "Xqb_RqfKiaSG",
    "outputId": "62358536-701f-41df-d250-4ec625970086"
   },
   "outputs": [],
   "source": [
    "\"\"\" Adicionalmente podemos crear una nueva variable predictora X_new considerando que tenga la misma cantidad de columnas\n",
    "En nuestro ejemplo necesitamos tres números continuos para op,ex,ag \"\"\"\n",
    "X_new = np.array([[45.92,57.74,15.66]])\n",
    "\n",
    "new_labels = kmeans.predict(X_new)\n",
    "print(new_labels)"
   ]
  }
 ],
 "metadata": {
  "colab": {
   "name": "Clusterizacion_con_KMeans.ipynb",
   "provenance": []
  },
  "kernelspec": {
   "display_name": "Python 3",
   "language": "python",
   "name": "python3"
  },
  "language_info": {
   "codemirror_mode": {
    "name": "ipython",
    "version": 3
   },
   "file_extension": ".py",
   "mimetype": "text/x-python",
   "name": "python",
   "nbconvert_exporter": "python",
   "pygments_lexer": "ipython3",
   "version": "3.7.4"
  }
 },
 "nbformat": 4,
 "nbformat_minor": 1
}
